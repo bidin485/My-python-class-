{
 "cells": [
  {
   "cell_type": "code",
   "execution_count": 23,
   "id": "c9308e00",
   "metadata": {},
   "outputs": [],
   "source": [
    "import pandas as pd\n",
    "import seaborn as sns\n",
    "import matplotlib.pyplot as plt"
   ]
  },
  {
   "cell_type": "code",
   "execution_count": 3,
   "id": "0b958a95",
   "metadata": {},
   "outputs": [
    {
     "name": "stdout",
     "output_type": "stream",
     "text": [
      "     Name  Age      City\n",
      "0    John   25  New York\n",
      "1  clever   30    London\n",
      "2    dine   35     Paris\n"
     ]
    }
   ],
   "source": [
    "mydataset = {\n",
    "    \"Name\": [\"John\", \"clever\", \"dine\"],\n",
    "    \"Age\": [25, 30, 35],\n",
    "    \"City\": [\"New York\", \"London\", \"Paris\"]\n",
    "}\n",
    "# Convert the dictionary to a DataFrame\n",
    "mydict = pd.DataFrame(mydataset)\n",
    "# Print the DataFrame\n",
    "print(mydict)"
   ]
  },
  {
   "cell_type": "code",
   "execution_count": 4,
   "id": "139b249d",
   "metadata": {},
   "outputs": [
    {
     "name": "stdout",
     "output_type": "stream",
     "text": [
      "Name: ['John', 'clever', 'dine']\n",
      "Age: [25, 30, 35]\n",
      "City: ['New York', 'London', 'Paris']\n"
     ]
    }
   ],
   "source": [
    "\n",
    "# Accessing individual items\n",
    "name = mydataset[\"Name\"]\n",
    "age = mydataset[\"Age\"]\n",
    "city = mydataset[\"City\"]\n",
    "\n",
    "# Printing the items\n",
    "print(\"Name:\", name)\n",
    "print(\"Age:\", age)\n",
    "print(\"City:\", city)\n"
   ]
  },
  {
   "cell_type": "code",
   "execution_count": 6,
   "id": "1c05aac0",
   "metadata": {},
   "outputs": [
    {
     "name": "stdout",
     "output_type": "stream",
     "text": [
      "Monday       05/07/2023\n",
      "Tuesday      06/07/2023\n",
      "Wednesday    07/07/2023\n",
      "Thursday     08/07/2023\n",
      "Friday       09/07/2023\n",
      "Saturday     10/07/2023\n",
      "Sunday       11/07/2023\n",
      "dtype: object\n"
     ]
    }
   ],
   "source": [
    "#  a dictionary for days of the week and respective full dates\n",
    "days_of_week = {\n",
    "    \"Monday\": \"05/07/2023\",\n",
    "    \"Tuesday\": \"06/07/2023\",\n",
    "    \"Wednesday\": \"07/07/2023\",\n",
    "    \"Thursday\": \"08/07/2023\",\n",
    "    \"Friday\": \"09/07/2023\",\n",
    "    \"Saturday\": \"10/07/2023\",\n",
    "    \"Sunday\": \"11/07/2023\"\n",
    "}\n",
    "\n",
    "# Create a Pandas Series from the dictionary\n",
    "series = pd.Series(days_of_week)\n",
    "\n",
    "# Print the series\n",
    "print(series)"
   ]
  },
  {
   "cell_type": "code",
   "execution_count": 7,
   "id": "469f3e68",
   "metadata": {},
   "outputs": [
    {
     "name": "stdout",
     "output_type": "stream",
     "text": [
      "('05/07/2023', '06/07/2023')\n"
     ]
    }
   ],
   "source": [
    "#simple series from monday and tuesday\n",
    "myList=(days_of_week['Monday'],days_of_week['Tuesday'])\n",
    "print(myList)\n"
   ]
  },
  {
   "cell_type": "code",
   "execution_count": 8,
   "id": "26dea70a",
   "metadata": {},
   "outputs": [
    {
     "name": "stdout",
     "output_type": "stream",
     "text": [
      "0    05/07/2023\n",
      "1    06/07/2023\n",
      "dtype: object\n"
     ]
    }
   ],
   "source": [
    "series=pd.Series(myList)\n",
    "print(series)"
   ]
  },
  {
   "cell_type": "code",
   "execution_count": 12,
   "id": "eca01236",
   "metadata": {},
   "outputs": [
    {
     "name": "stdout",
     "output_type": "stream",
     "text": [
      "   Duration  Pulse  Maxpulse  Calories\n",
      "0        60    110       130     409.1\n",
      "1        60    117       145     479.0\n",
      "2        60    103       135     340.0\n",
      "3        45    109       175     282.4\n",
      "4        45    117       148     406.0\n",
      "5        60    102       127     300.0\n"
     ]
    }
   ],
   "source": [
    "#working on the assignment using mine dataset\n",
    "#head() method  is used to display the first few rows of a DataFrame\n",
    "df = pd.read_csv('mine.csv')\n",
    "print(df.head(6))"
   ]
  },
  {
   "cell_type": "code",
   "execution_count": 13,
   "id": "120b8830",
   "metadata": {},
   "outputs": [
    {
     "name": "stdout",
     "output_type": "stream",
     "text": [
      "     Duration  Pulse  Maxpulse  Calories\n",
      "163        45    100       140     280.9\n",
      "164        60    105       140     290.8\n",
      "165        60    110       145     300.0\n",
      "166        60    115       145     310.2\n",
      "167        75    120       150     320.4\n",
      "168        75    125       150     330.4\n"
     ]
    }
   ],
   "source": [
    "#tail() method is similar to head(), but it displays the last few rows of a DataFrame or Series\n",
    "print(df.tail(6))"
   ]
  },
  {
   "cell_type": "code",
   "execution_count": 14,
   "id": "855c1700",
   "metadata": {},
   "outputs": [
    {
     "name": "stdout",
     "output_type": "stream",
     "text": [
      "<class 'pandas.core.frame.DataFrame'>\n",
      "RangeIndex: 169 entries, 0 to 168\n",
      "Data columns (total 4 columns):\n",
      " #   Column    Non-Null Count  Dtype  \n",
      "---  ------    --------------  -----  \n",
      " 0   Duration  169 non-null    int64  \n",
      " 1   Pulse     169 non-null    int64  \n",
      " 2   Maxpulse  169 non-null    int64  \n",
      " 3   Calories  164 non-null    float64\n",
      "dtypes: float64(1), int64(3)\n",
      "memory usage: 5.4 KB\n",
      "None\n"
     ]
    }
   ],
   "source": [
    "# The info() method provides a summary of the DataFrame, including the number of rows, the number of non-null values in each column, and the data types of the columns. \n",
    "print(df.info())"
   ]
  },
  {
   "cell_type": "code",
   "execution_count": 16,
   "id": "a484bfbc",
   "metadata": {},
   "outputs": [
    {
     "name": "stdout",
     "output_type": "stream",
     "text": [
      "     Duration  Pulse  Maxpulse  Calories\n",
      "0          60    110       130     409.1\n",
      "1          60    117       145     479.0\n",
      "2          60    103       135     340.0\n",
      "3          45    109       175     282.4\n",
      "4          45    117       148     406.0\n",
      "..        ...    ...       ...       ...\n",
      "164        60    105       140     290.8\n",
      "165        60    110       145     300.0\n",
      "166        60    115       145     310.2\n",
      "167        75    120       150     320.4\n",
      "168        75    125       150     330.4\n",
      "\n",
      "[164 rows x 4 columns]\n"
     ]
    }
   ],
   "source": [
    "#The dropna() method in pandas is used to remove missing values (NaN) from a DataFrame.\n",
    "# It allows you to drop rows or columns that contain any missing values or only those that have missing values in specific columns\n",
    "# Drop rows or columns  with any missing values\n",
    "df_dropped = df.dropna()\n",
    "\n",
    "# Display the DataFrame after dropping rows or columns with missing values\n",
    "print(df_dropped)"
   ]
  },
  {
   "cell_type": "code",
   "execution_count": 17,
   "id": "6fc70eab",
   "metadata": {},
   "outputs": [
    {
     "name": "stdout",
     "output_type": "stream",
     "text": [
      "     Duration  Pulse  Maxpulse Calories\n",
      "0          60    110       130    409.1\n",
      "1          60    117       145    479.0\n",
      "2          60    103       135    340.0\n",
      "3          45    109       175    282.4\n",
      "4          45    117       148    406.0\n",
      "..        ...    ...       ...      ...\n",
      "164        60    105       140    290.8\n",
      "165        60    110       145    300.0\n",
      "166        60    115       145    310.2\n",
      "167        75    120       150    320.4\n",
      "168        75    125       150    330.4\n",
      "\n",
      "[169 rows x 4 columns]\n"
     ]
    }
   ],
   "source": [
    "#The fillna() method in pandas is used to fill missing values (NaN) in a DataFrame or Series with a specified value or with a method like forward filling or backward filling.\n",
    "# It allows you to replace missing values based on your requirements\n",
    "df_filled = df.fillna('Unknown')\n",
    "print(df_filled)"
   ]
  },
  {
   "cell_type": "code",
   "execution_count": 18,
   "id": "da4d5e41",
   "metadata": {},
   "outputs": [
    {
     "name": "stdout",
     "output_type": "stream",
     "text": [
      "         Duration       Pulse    Maxpulse     Calories\n",
      "count  169.000000  169.000000  169.000000   164.000000\n",
      "mean    63.846154  107.461538  134.047337   375.790244\n",
      "std     42.299949   14.510259   16.450434   266.379919\n",
      "min     15.000000   80.000000  100.000000    50.300000\n",
      "25%     45.000000  100.000000  124.000000   250.925000\n",
      "50%     60.000000  105.000000  131.000000   318.600000\n",
      "75%     60.000000  111.000000  141.000000   387.600000\n",
      "max    300.000000  159.000000  184.000000  1860.400000\n"
     ]
    }
   ],
   "source": [
    "#Handling wrong data in mine.csv file \n",
    "#using describe()  method in pandas to identify potential wrong data or outliers in your dataset\n",
    "# Use describe() to get summary statistics of the numerical columns\n",
    "description = df.describe()\n",
    "\n",
    "# Display the summary statistics\n",
    "print(description)\n"
   ]
  },
  {
   "cell_type": "code",
   "execution_count": 21,
   "id": "dae8a4e6",
   "metadata": {},
   "outputs": [
    {
     "name": "stdout",
     "output_type": "stream",
     "text": [
      "Before conversion:\n",
      "Duration      int64\n",
      "Pulse         int64\n",
      "Maxpulse      int64\n",
      "Calories    float64\n",
      "dtype: object\n",
      "After conversion:\n",
      "Duration    float64\n",
      "Pulse       float64\n",
      "Maxpulse    float64\n",
      "Calories    float64\n",
      "dtype: object\n"
     ]
    }
   ],
   "source": [
    "#handling wrong formats in mine.csv file\n",
    "#using astype ()method in pandas to handle wrong formats and convert columns to the correct data types.\n",
    "print(\"Before conversion:\")\n",
    "print(df.dtypes)\n",
    "#here i change all the types to floats \n",
    "df = df.astype({col: float for col in df.columns})\n",
    "print(\"After conversion:\")\n",
    "print(df.dtypes)"
   ]
  },
  {
   "cell_type": "code",
   "execution_count": 22,
   "id": "8e319f5d",
   "metadata": {},
   "outputs": [
    {
     "name": "stdout",
     "output_type": "stream",
     "text": [
      "\n",
      "After removing duplicates:\n",
      "     Duration  Pulse  Maxpulse  Calories\n",
      "0        60.0  110.0     130.0     409.1\n",
      "1        60.0  117.0     145.0     479.0\n",
      "2        60.0  103.0     135.0     340.0\n",
      "3        45.0  109.0     175.0     282.4\n",
      "4        45.0  117.0     148.0     406.0\n",
      "..        ...    ...       ...       ...\n",
      "164      60.0  105.0     140.0     290.8\n",
      "165      60.0  110.0     145.0     300.0\n",
      "166      60.0  115.0     145.0     310.2\n",
      "167      75.0  120.0     150.0     320.4\n",
      "168      75.0  125.0     150.0     330.4\n",
      "\n",
      "[162 rows x 4 columns]\n"
     ]
    }
   ],
   "source": [
    "#handling duplicates in the mine.csv file using drop_duplicates() function\n",
    "# Drop duplicates based on all columns\n",
    "df_no_duplicates = df.drop_duplicates()\n",
    "\n",
    "# Display the DataFrame after removing duplicates\n",
    "print(\"\\nAfter removing duplicates:\")\n",
    "print(df_no_duplicates)"
   ]
  },
  {
   "cell_type": "code",
   "execution_count": 26,
   "id": "c3e845bb",
   "metadata": {},
   "outputs": [
    {
     "name": "stdout",
     "output_type": "stream",
     "text": [
      "          Duration     Pulse  Maxpulse  Calories\n",
      "Duration  1.000000 -0.155408  0.009403  0.922717\n",
      "Pulse    -0.155408  1.000000  0.786535  0.025121\n",
      "Maxpulse  0.009403  0.786535  1.000000  0.203813\n",
      "Calories  0.922717  0.025121  0.203813  1.000000\n"
     ]
    },
    {
     "data": {
      "image/png": "[encoded data removed]",
      "text/plain": [
       "<Figure size 1000x800 with 2 Axes>"
      ]
     },
     "metadata": {},
     "output_type": "display_data"
    }
   ],
   "source": [
    "#correlations on mine.csv \n",
    "# Read the CSV file into a DataFrame\n",
    "df = pd.read_csv('mine.csv')\n",
    "\n",
    "# Calculate the correlation matrix\n",
    "correlation_matrix = df.corr()\n",
    "print(correlation_matrix)\n",
    "\n",
    "# Visualize the correlation matrix as a heatmap\n",
    "plt.figure(figsize=(10, 8))\n",
    "sns.heatmap(correlation_matrix, annot=True, cmap='coolwarm')\n",
    "plt.title('Correlation Matrix')\n",
    "plt.show()\n",
    "\n"
   ]
  },
  {
   "cell_type": "code",
   "execution_count": 30,
   "id": "650220d3",
   "metadata": {},
   "outputs": [
    {
     "name": "stdout",
     "output_type": "stream",
     "text": [
      "     Name         city  age py-score\n",
      "0    Emma      Kampala   23       90\n",
      "1  Wilber        Mbale   26       75\n",
      "2   Robin         Gulu   25     mine\n",
      "3   Tevor  Livingstone  NaN       89\n"
     ]
    }
   ],
   "source": [
    "#now working on Work.csv file\n",
    "df2 = pd.read_csv('Work.csv')\n",
    "print(df2.head(4))"
   ]
  },
  {
   "cell_type": "code",
   "execution_count": 31,
   "id": "86b41efa",
   "metadata": {},
   "outputs": [
    {
     "name": "stdout",
     "output_type": "stream",
     "text": [
      "     Name     city    age py-score\n",
      "4    Yeko   Tororo     20       94\n",
      "5  Miriam     Arua  Train      NaN\n",
      "6   Jesca  Mbarara     21       84\n"
     ]
    }
   ],
   "source": [
    "#tail() method is similar to head(), but it displays the last few rows of a DataFrame or Series\n",
    "print(df2.tail(3))"
   ]
  },
  {
   "cell_type": "code",
   "execution_count": 33,
   "id": "3fc87498",
   "metadata": {},
   "outputs": [
    {
     "name": "stdout",
     "output_type": "stream",
     "text": [
      "<class 'pandas.core.frame.DataFrame'>\n",
      "RangeIndex: 7 entries, 0 to 6\n",
      "Data columns (total 4 columns):\n",
      " #   Column    Non-Null Count  Dtype \n",
      "---  ------    --------------  ----- \n",
      " 0   Name      7 non-null      object\n",
      " 1   city      7 non-null      object\n",
      " 2   age       6 non-null      object\n",
      " 3   py-score  6 non-null      object\n",
      "dtypes: object(4)\n",
      "memory usage: 352.0+ bytes\n",
      "None\n"
     ]
    }
   ],
   "source": [
    "# The info() method provides a summary of the DataFrame, including the number of rows, the number of non-null values in each column, and the data types of the columns. \n",
    "print(df2.info())"
   ]
  },
  {
   "cell_type": "code",
   "execution_count": 34,
   "id": "1f593b1e",
   "metadata": {},
   "outputs": [
    {
     "name": "stdout",
     "output_type": "stream",
     "text": [
      "     Name     city age py-score\n",
      "0    Emma  Kampala  23       90\n",
      "1  Wilber    Mbale  26       75\n",
      "2   Robin     Gulu  25     mine\n",
      "4    Yeko   Tororo  20       94\n",
      "6   Jesca  Mbarara  21       84\n"
     ]
    }
   ],
   "source": [
    "# Drop rows or columns  with any missing values\n",
    "df2_dropped = df.dropna()\n",
    "\n",
    "# Display the DataFrame after dropping rows or columns with missing values\n",
    "print(df2_dropped)"
   ]
  },
  {
   "cell_type": "code",
   "execution_count": 35,
   "id": "23f5ef60",
   "metadata": {},
   "outputs": [
    {
     "name": "stdout",
     "output_type": "stream",
     "text": [
      "     Name         city      age py-score\n",
      "0    Emma      Kampala       23       90\n",
      "1  Wilber        Mbale       26       75\n",
      "2   Robin         Gulu       25     mine\n",
      "3   Tevor  Livingstone  Unknown       89\n",
      "4    Yeko       Tororo       20       94\n",
      "5  Miriam         Arua    Train  Unknown\n",
      "6   Jesca      Mbarara       21       84\n"
     ]
    }
   ],
   "source": [
    "#The fillna() method in pandas is used to fill missing values (NaN) in a DataFrame or Series with a specified value or with a method like forward filling or backward filling.\n",
    "# It allows you to replace missing values based on your requirements\n",
    "df2_filled = df.fillna('Unknown')\n",
    "print(df2_filled)"
   ]
  },
  {
   "cell_type": "code",
   "execution_count": 36,
   "id": "ce57af8c",
   "metadata": {},
   "outputs": [
    {
     "name": "stdout",
     "output_type": "stream",
     "text": [
      "        Name     city age py-score\n",
      "count      7        7   6        6\n",
      "unique     7        7   6        6\n",
      "top     Emma  Kampala  23       90\n",
      "freq       1        1   1        1\n"
     ]
    }
   ],
   "source": [
    "#Handling wrong data in Work.csv file \n",
    "#using describe()  method in pandas to identify potential wrong data or outliers in your dataset\n",
    "# Use describe() to get summary statistics of the numerical columns\n",
    "description = df2.describe()\n",
    "\n",
    "# Display the summary statistics\n",
    "print(description)\n"
   ]
  },
  {
   "cell_type": "code",
   "execution_count": 38,
   "id": "5cf8c29e",
   "metadata": {},
   "outputs": [
    {
     "name": "stdout",
     "output_type": "stream",
     "text": [
      "\n",
      "After removing duplicates:\n",
      "     Name         city    age py-score\n",
      "0    Emma      Kampala     23       90\n",
      "1  Wilber        Mbale     26       75\n",
      "2   Robin         Gulu     25     mine\n",
      "3   Tevor  Livingstone    NaN       89\n",
      "4    Yeko       Tororo     20       94\n",
      "5  Miriam         Arua  Train      NaN\n",
      "6   Jesca      Mbarara     21       84\n"
     ]
    }
   ],
   "source": [
    "#handling duplicates in the Work.csv file using drop_duplicates() function\n",
    "# Drop duplicates based on all columns\n",
    "df2_no_duplicates = df2.drop_duplicates()\n",
    "\n",
    "# Display the DataFrame after removing duplicates\n",
    "print(\"\\nAfter removing duplicates:\")\n",
    "print(df2_no_duplicates)"
   ]
  },
  {
   "cell_type": "code",
   "execution_count": 43,
   "id": "134921f0",
   "metadata": {},
   "outputs": [
    {
     "name": "stdout",
     "output_type": "stream",
     "text": [
      "Empty DataFrame\n",
      "Columns: []\n",
      "Index: []\n"
     ]
    }
   ],
   "source": [
    "#correlations on Work.csv \n",
    "# Read the CSV file into a DataFrame\n",
    "df2 = pd.read_csv('Work.csv')\n",
    "correlation_matrix = df2.corr(numeric_only=True)\n",
    "print(correlation_matrix)\n",
    "\n",
    "\n",
    "\n",
    "\n",
    "\n"
   ]
  },
  {
   "cell_type": "code",
   "execution_count": null,
   "id": "95ede842",
   "metadata": {},
   "outputs": [],
   "source": []
  }
 ],
 "metadata": {
  "kernelspec": {
   "display_name": "Python 3 (ipykernel)",
   "language": "python",
   "name": "python3"
  },
  "language_info": {
   "codemirror_mode": {
    "name": "ipython",
    "version": 3
   },
   "file_extension": ".py",
   "mimetype": "text/x-python",
   "name": "python",
   "nbconvert_exporter": "python",
   "pygments_lexer": "ipython3",
   "version": "3.10.7"
  }
 },
 "nbformat": 4,
 "nbformat_minor": 5
}
