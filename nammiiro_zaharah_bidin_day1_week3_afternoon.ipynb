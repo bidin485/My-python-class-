import pandas as pd
mydataset = {
    "Name": ["John", "Zaharah", "bidin"],
    "Age": [25, 30, 35],
    "City": ["New York", "London", "Paris"]
}
# Convert the dictionary to a DataFrame
mydict = pd.DataFrame(mydataset)
# Print the DataFrame
print(mydict)