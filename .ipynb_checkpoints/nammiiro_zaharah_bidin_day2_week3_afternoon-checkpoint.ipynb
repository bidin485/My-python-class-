{
 "cells": [
  {
   "cell_type": "code",
   "execution_count": 1,
   "id": "f9a16232",
   "metadata": {},
   "outputs": [],
   "source": [
    "import pandas as pd"
   ]
  },
  {
   "cell_type": "code",
   "execution_count": 2,
   "id": "29868f4e",
   "metadata": {},
   "outputs": [
    {
     "name": "stdout",
     "output_type": "stream",
     "text": [
      "      Name  Age      City\n",
      "0     John   25  New York\n",
      "1  Zaharah   30    London\n",
      "2    bidin   35     Paris\n"
     ]
    }
   ],
   "source": [
    "mydataset = {\n",
    "    \"Name\": [\"John\", \"Zaharah\", \"bidin\"],\n",
    "    \"Age\": [25, 30, 35],\n",
    "    \"City\": [\"New York\", \"London\", \"Paris\"]\n",
    "}\n",
    "# Convert the dictionary to a DataFrame\n",
    "mydict = pd.DataFrame(mydataset)\n",
    "# Print the DataFrame\n",
    "print(mydict)"
   ]
  },
  {
   "cell_type": "code",
   "execution_count": 4,
   "id": "36e7a013",
   "metadata": {},
   "outputs": [
    {
     "name": "stdout",
     "output_type": "stream",
     "text": [
      "Name: ['John', 'Zaharah', 'bidin']\n",
      "Age: [25, 30, 35]\n",
      "City: ['New York', 'London', 'Paris']\n"
     ]
    }
   ],
   "source": [
    "\n",
    "# Accessing individual items\n",
    "name = mydataset[\"Name\"]\n",
    "age = mydataset[\"Age\"]\n",
    "city = mydataset[\"City\"]\n",
    "\n",
    "# Printing the items\n",
    "print(\"Name:\", name)\n",
    "print(\"Age:\", age)\n",
    "print(\"City:\", city)\n"
   ]
  },
  {
   "cell_type": "code",
   "execution_count": 5,
   "id": "44ad78d1",
   "metadata": {},
   "outputs": [
    {
     "name": "stdout",
     "output_type": "stream",
     "text": [
      "Monday       05/07/2023\n",
      "Tuesday      06/07/2023\n",
      "Wednesday    07/07/2023\n",
      "Thursday     08/07/2023\n",
      "Friday       09/07/2023\n",
      "Saturday     10/07/2023\n",
      "Sunday       11/07/2023\n",
      "dtype: object\n"
     ]
    }
   ],
   "source": [
    "#  a dictionary for days of the week and respective full dates\n",
    "days_of_week = {\n",
    "    \"Monday\": \"05/07/2023\",\n",
    "    \"Tuesday\": \"06/07/2023\",\n",
    "    \"Wednesday\": \"07/07/2023\",\n",
    "    \"Thursday\": \"08/07/2023\",\n",
    "    \"Friday\": \"09/07/2023\",\n",
    "    \"Saturday\": \"10/07/2023\",\n",
    "    \"Sunday\": \"11/07/2023\"\n",
    "}\n",
    "\n",
    "# Create a Pandas Series from the dictionary\n",
    "series = pd.Series(days_of_week)\n",
    "\n",
    "# Print the series\n",
    "print(series)"
   ]
  },
  {
   "cell_type": "code",
   "execution_count": 6,
   "id": "1646f7d5",
   "metadata": {},
   "outputs": [
    {
     "name": "stdout",
     "output_type": "stream",
     "text": [
      "('05/07/2023', '06/07/2023')\n"
     ]
    }
   ],
   "source": [
    "#simple series from monday and tuesday\n",
    "myList=(days_of_week['Monday'],days_of_week['Tuesday'])\n",
    "print(myList)\n"
   ]
  },
  {
   "cell_type": "code",
   "execution_count": null,
   "id": "abdb5123",
   "metadata": {},
   "outputs": [],
   "source": [
    "myserie=pd.Series(myList)\n",
    "print(myserie)"
   ]
  }
 ],
 "metadata": {
  "kernelspec": {
   "display_name": "Python 3 (ipykernel)",
   "language": "python",
   "name": "python3"
  },
  "language_info": {
   "codemirror_mode": {
    "name": "ipython",
    "version": 3
   },
   "file_extension": ".py",
   "mimetype": "text/x-python",
   "name": "python",
   "nbconvert_exporter": "python",
   "pygments_lexer": "ipython3",
   "version": "3.9.13"
  }
 },
 "nbformat": 4,
 "nbformat_minor": 5
}
